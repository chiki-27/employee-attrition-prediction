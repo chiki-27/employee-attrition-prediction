{
  "nbformat": 4,
  "nbformat_minor": 0,
  "metadata": {
    "colab": {
      "provenance": []
    },
    "kernelspec": {
      "name": "python3",
      "display_name": "Python 3"
    },
    "language_info": {
      "name": "python"
    }
  },
  "cells": [
    {
      "cell_type": "code",
      "execution_count": null,
      "metadata": {
        "id": "g2CJse6XDoLE"
      },
      "outputs": [],
      "source": [
        "import pandas as pd\n",
        "df = pd.read_csv(\"/content/WA_Fn-UseC_-HR-Employee-Attrition (1).csv\")\n",
        "df.head()"
      ]
    },
    {
      "cell_type": "code",
      "source": [
        "df.shape"
      ],
      "metadata": {
        "id": "gvST0p_6EGfv"
      },
      "execution_count": null,
      "outputs": []
    },
    {
      "cell_type": "code",
      "source": [
        "df.info()"
      ],
      "metadata": {
        "id": "mQn5gC2KEGiC"
      },
      "execution_count": null,
      "outputs": []
    },
    {
      "cell_type": "code",
      "source": [
        "df.isnull().sum()"
      ],
      "metadata": {
        "id": "fcQJT6BuEGkt"
      },
      "execution_count": null,
      "outputs": []
    },
    {
      "cell_type": "code",
      "source": [
        "df.describe()"
      ],
      "metadata": {
        "id": "1ZaiJwdtEGoM"
      },
      "execution_count": null,
      "outputs": []
    },
    {
      "cell_type": "code",
      "source": [
        "import matplotlib.pyplot as plt\n",
        "import seaborn as sns\n"
      ],
      "metadata": {
        "id": "l3zqO9byFbAw"
      },
      "execution_count": null,
      "outputs": []
    },
    {
      "cell_type": "code",
      "source": [
        "sns.set(style='whitegrid')"
      ],
      "metadata": {
        "id": "pNYXsegcFbDn"
      },
      "execution_count": null,
      "outputs": []
    },
    {
      "cell_type": "code",
      "source": [
        "sns.countplot(data=df,x='Attrition',palette='pastel')\n",
        "plt.title(\"Attrition Distribution\")\n",
        "plt.show()"
      ],
      "metadata": {
        "id": "dPs6e94XFbG1"
      },
      "execution_count": null,
      "outputs": []
    },
    {
      "cell_type": "code",
      "source": [
        "plt.figure(figsize=(8,5))\n",
        "sns.countplot(data=df,x='Department',hue='Attrition',palette='Set2')\n",
        "plt.title(\"attrition by Department\")\n",
        "plt.xticks(rotation=15)\n",
        "plt.show()\n"
      ],
      "metadata": {
        "id": "qaUb2TedFbKO"
      },
      "execution_count": null,
      "outputs": []
    },
    {
      "cell_type": "code",
      "source": [
        "sns.countplot(data=df,x='OverTime',hue='Attrition',palette='Set1')\n",
        "plt.title(\"Attrition by OverTime\")\n",
        "plt.show()"
      ],
      "metadata": {
        "id": "tVgpbTl7Hvw6"
      },
      "execution_count": null,
      "outputs": []
    },
    {
      "cell_type": "code",
      "source": [
        "plt.figure(figsize=(8,5))\n",
        "sns.boxplot(data=df,x='Attrition',y='MonthlyIncome',palette='coolwarm')\n",
        "plt.title(\"Monthly Income by Attrition\")\n",
        "plt.show()"
      ],
      "metadata": {
        "id": "pzQkSj0wHvzr"
      },
      "execution_count": null,
      "outputs": []
    },
    {
      "cell_type": "code",
      "source": [
        "df_corr = df.copy()\n",
        "df_corr['Attrition']=df_corr['Attrition'].map({'Yes':1,'No':0})\n"
      ],
      "metadata": {
        "id": "4O5HC7NDHv2j"
      },
      "execution_count": null,
      "outputs": []
    },
    {
      "cell_type": "code",
      "source": [
        "numeric_df=df_corr.select_dtypes(include='number')"
      ],
      "metadata": {
        "id": "_878mu4uKg4F"
      },
      "execution_count": null,
      "outputs": []
    },
    {
      "cell_type": "code",
      "source": [
        "corr_matrix = numeric_df.corr()\n",
        "attrition_corr = corr_matrix['Attrition'].sort_values(ascending=False)\n",
        "print(attrition_corr)"
      ],
      "metadata": {
        "id": "DJHk0q3BHv57"
      },
      "execution_count": null,
      "outputs": []
    },
    {
      "cell_type": "code",
      "source": [
        "df_corr['StandardHours'].unique()\n",
        "df_corr['StandardHours'].unique()"
      ],
      "metadata": {
        "id": "CWEJHejYHwDe"
      },
      "execution_count": null,
      "outputs": []
    },
    {
      "cell_type": "code",
      "source": [
        "plt.figure(figsize=(15,10))\n",
        "sns.heatmap(corr_matrix, annot=True,fmt=\".2f\", cmap='coolwarm')\n",
        "plt.title(\"Correlation Heatmap\")\n",
        "plt.show()"
      ],
      "metadata": {
        "id": "z3ShbIOuHwF0"
      },
      "execution_count": null,
      "outputs": []
    },
    {
      "cell_type": "code",
      "source": [
        "df_clean=df.copy()\n",
        "df_clean=df_clean.drop(columns=['EmployeeCount','StandardHours','Over18','EmployeeNumber'])"
      ],
      "metadata": {
        "id": "k-N1nNryHwJU"
      },
      "execution_count": null,
      "outputs": []
    },
    {
      "cell_type": "code",
      "source": [
        "df_clean['Attrition']= df_clean['Attrition'].str.strip().map({'Yes':1,'No':0})"
      ],
      "metadata": {
        "id": "XsGHlRk_NA80"
      },
      "execution_count": null,
      "outputs": []
    },
    {
      "cell_type": "code",
      "source": [
        "df_encoded=pd.get_dummies(df_clean,drop_first=True)"
      ],
      "metadata": {
        "id": "0xI4bGsaNA_J"
      },
      "execution_count": null,
      "outputs": []
    },
    {
      "cell_type": "code",
      "source": [
        "#cleaned dataset\n",
        "#converted all categorical columns to numeric\n",
        "#removed unnecessary columns\n",
        "#ready to train ML models"
      ],
      "metadata": {
        "id": "pree0QsTOsYa"
      },
      "execution_count": null,
      "outputs": []
    },
    {
      "cell_type": "code",
      "source": [
        "print(df_encoded.shape)\n",
        "df_encoded.head()"
      ],
      "metadata": {
        "id": "LqPiVTQvNBBj"
      },
      "execution_count": null,
      "outputs": []
    },
    {
      "cell_type": "code",
      "source": [
        "#splitting data into features(x) and target(y)"
      ],
      "metadata": {
        "id": "wi83PkchOczA"
      },
      "execution_count": null,
      "outputs": []
    },
    {
      "cell_type": "code",
      "source": [
        "X = df_encoded.drop('Attrition',axis=1)\n",
        "y=df_encoded['Attrition']"
      ],
      "metadata": {
        "id": "kHfs_jqWOc1p"
      },
      "execution_count": null,
      "outputs": []
    },
    {
      "cell_type": "code",
      "source": [
        "from sklearn.model_selection import train_test_split\n",
        "X_train,X_test,y_train,y_test= train_test_split(X,y,test_size=0.2,random_state=42)"
      ],
      "metadata": {
        "id": "UeU7aiObOc4o"
      },
      "execution_count": null,
      "outputs": []
    },
    {
      "cell_type": "code",
      "source": [
        "from sklearn.linear_model import LogisticRegression\n",
        "\n",
        "model = LogisticRegression(max_iter=1000)\n",
        "model.fit(X_train, y_train)"
      ],
      "metadata": {
        "id": "hWMJflPrOc7k"
      },
      "execution_count": null,
      "outputs": []
    },
    {
      "cell_type": "code",
      "source": [
        "from sklearn.metrics import classification_report, accuracy_score, confusion_matrix\n",
        "\n",
        "y_pred = model.predict(X_test)\n",
        "\n",
        "print(\"Accuracy:\", accuracy_score(y_test, y_pred))\n",
        "print(\"\\nConfusion Matrix:\\n\", confusion_matrix(y_test, y_pred))\n",
        "print(\"\\nClassification Report:\\n\", classification_report(y_test, y_pred))"
      ],
      "metadata": {
        "id": "Rr7Q8OFLOc-W"
      },
      "execution_count": null,
      "outputs": []
    },
    {
      "cell_type": "code",
      "source": [
        "from sklearn.ensemble import RandomForestClassifier\n",
        "\n",
        "rf_model = RandomForestClassifier(random_state=42)\n",
        "rf_model.fit(X_train, y_train)\n",
        "\n",
        "y_pred_rf = rf_model.predict(X_test)\n",
        "\n",
        "from sklearn.metrics import accuracy_score, classification_report\n",
        "print(\"Random Forest Accuracy:\", accuracy_score(y_test, y_pred_rf))\n",
        "print(\"Classification Report:\\n\", classification_report(y_test, y_pred_rf))"
      ],
      "metadata": {
        "id": "vYhyAyc9OdA8"
      },
      "execution_count": null,
      "outputs": []
    },
    {
      "cell_type": "code",
      "source": [
        "from xgboost import XGBClassifier\n",
        "\n",
        "xgb_model = XGBClassifier(use_label_encoder=False, eval_metric='logloss')\n",
        "xgb_model.fit(X_train, y_train)\n",
        "\n",
        "y_pred_xgb = xgb_model.predict(X_test)\n",
        "\n",
        "print(\"XGBoost Accuracy:\", accuracy_score(y_test, y_pred_xgb))\n",
        "print(\"Classification Report:\\n\", classification_report(y_test, y_pred_xgb))"
      ],
      "metadata": {
        "id": "0ajYYnasOdEg"
      },
      "execution_count": null,
      "outputs": []
    },
    {
      "cell_type": "code",
      "source": [
        "import pandas as pd\n",
        "import matplotlib.pyplot as plt\n",
        "\n",
        "# Get feature importances\n",
        "importances = rf_model.feature_importances_\n",
        "features = X.columns\n",
        "feat_imp = pd.Series(importances, index=features).sort_values(ascending=False)\n",
        "\n",
        "# Plot top 10 important features\n",
        "plt.figure(figsize=(10,6))\n",
        "feat_imp[:10].plot(kind='bar')\n",
        "plt.title('Top 10 Feature Importances (Random Forest)')\n",
        "plt.ylabel('Importance Score')\n",
        "plt.xlabel('Features')\n",
        "plt.show()"
      ],
      "metadata": {
        "id": "DhzpJ6_wNBE6"
      },
      "execution_count": null,
      "outputs": []
    }
  ]
}